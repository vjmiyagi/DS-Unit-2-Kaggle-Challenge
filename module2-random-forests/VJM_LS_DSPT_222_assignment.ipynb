{
  "nbformat": 4,
  "nbformat_minor": 0,
  "metadata": {
    "kernelspec": {
      "display_name": "Python 3",
      "language": "python",
      "name": "python3"
    },
    "language_info": {
      "codemirror_mode": {
        "name": "ipython",
        "version": 3
      },
      "file_extension": ".py",
      "mimetype": "text/x-python",
      "name": "python",
      "nbconvert_exporter": "python",
      "pygments_lexer": "ipython3",
      "version": "3.7.3"
    },
    "colab": {
      "name": "VJM_LS_DSPT_222_assignment.ipynb",
      "provenance": [],
      "collapsed_sections": [],
      "toc_visible": true,
      "machine_shape": "hm",
      "include_colab_link": true
    },
    "widgets": {
      "application/vnd.jupyter.widget-state+json": {
        "d98020093367431194c3ce26a80b6fc3": {
          "model_module": "@jupyter-widgets/controls",
          "model_name": "VBoxModel",
          "state": {
            "_view_name": "VBoxView",
            "_dom_classes": [
              "widget-interact"
            ],
            "_model_name": "VBoxModel",
            "_view_module": "@jupyter-widgets/controls",
            "_model_module_version": "1.5.0",
            "_view_count": null,
            "_view_module_version": "1.5.0",
            "box_style": "",
            "layout": "IPY_MODEL_5d3da32ee3a5437cada4da1e259045e6",
            "_model_module": "@jupyter-widgets/controls",
            "children": [
              "IPY_MODEL_2aeed9d14fda458ab06f5709e9e2b0e5",
              "IPY_MODEL_5807cdbc6fc84a7ebea5dad4d2e5baa3",
              "IPY_MODEL_d3f03926f6d04deea417eacbd6ea7bc2"
            ]
          }
        },
        "5d3da32ee3a5437cada4da1e259045e6": {
          "model_module": "@jupyter-widgets/base",
          "model_name": "LayoutModel",
          "state": {
            "_view_name": "LayoutView",
            "grid_template_rows": null,
            "right": null,
            "justify_content": null,
            "_view_module": "@jupyter-widgets/base",
            "overflow": null,
            "_model_module_version": "1.2.0",
            "_view_count": null,
            "flex_flow": null,
            "width": null,
            "min_width": null,
            "border": null,
            "align_items": null,
            "bottom": null,
            "_model_module": "@jupyter-widgets/base",
            "top": null,
            "grid_column": null,
            "overflow_y": null,
            "overflow_x": null,
            "grid_auto_flow": null,
            "grid_area": null,
            "grid_template_columns": null,
            "flex": null,
            "_model_name": "LayoutModel",
            "justify_items": null,
            "grid_row": null,
            "max_height": null,
            "align_content": null,
            "visibility": null,
            "align_self": null,
            "height": null,
            "min_height": null,
            "padding": null,
            "grid_auto_rows": null,
            "grid_gap": null,
            "max_width": null,
            "order": null,
            "_view_module_version": "1.2.0",
            "grid_template_areas": null,
            "object_position": null,
            "object_fit": null,
            "grid_auto_columns": null,
            "margin": null,
            "display": null,
            "left": null
          }
        },
        "2aeed9d14fda458ab06f5709e9e2b0e5": {
          "model_module": "@jupyter-widgets/controls",
          "model_name": "IntSliderModel",
          "state": {
            "_view_name": "IntSliderView",
            "style": "IPY_MODEL_5f3d5090119d42d9b6ab6f6c2c32e90d",
            "_dom_classes": [],
            "description": "max_depth",
            "step": 1,
            "_model_name": "IntSliderModel",
            "orientation": "horizontal",
            "max": 6,
            "_view_module": "@jupyter-widgets/controls",
            "_model_module_version": "1.5.0",
            "value": 1,
            "_view_count": null,
            "disabled": false,
            "_view_module_version": "1.5.0",
            "min": 1,
            "continuous_update": true,
            "readout_format": "d",
            "description_tooltip": null,
            "readout": true,
            "_model_module": "@jupyter-widgets/controls",
            "layout": "IPY_MODEL_eb9ceae4f7be40d0b4bbe50fe4fc42d9"
          }
        },
        "5807cdbc6fc84a7ebea5dad4d2e5baa3": {
          "model_module": "@jupyter-widgets/controls",
          "model_name": "IntSliderModel",
          "state": {
            "_view_name": "IntSliderView",
            "style": "IPY_MODEL_65f7a696d4e940d5b7dd6b28a60b39aa",
            "_dom_classes": [],
            "description": "n_estimators",
            "step": 1,
            "_model_name": "IntSliderModel",
            "orientation": "horizontal",
            "max": 5,
            "_view_module": "@jupyter-widgets/controls",
            "_model_module_version": "1.5.0",
            "value": 2,
            "_view_count": null,
            "disabled": false,
            "_view_module_version": "1.5.0",
            "min": 2,
            "continuous_update": true,
            "readout_format": "d",
            "description_tooltip": null,
            "readout": true,
            "_model_module": "@jupyter-widgets/controls",
            "layout": "IPY_MODEL_8d3b93ea1cc54c3cb31bcb3b1e45d7ea"
          }
        },
        "d3f03926f6d04deea417eacbd6ea7bc2": {
          "model_module": "@jupyter-widgets/output",
          "model_name": "OutputModel",
          "state": {
            "_view_name": "OutputView",
            "msg_id": "",
            "_dom_classes": [],
            "_model_name": "OutputModel",
            "outputs": [
              {
                "output_type": "display_data",
                "metadata": {
                  "tags": [],
                  "needs_background": "light"
                },
                "image/png": "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\n",
                "text/plain": "<Figure size 432x288 with 2 Axes>"
              },
              {
                "output_type": "stream",
                "metadata": {
                  "tags": []
                },
                "text": "10000\n",
                "stream": "stdout"
              },
              {
                "output_type": "display_data",
                "metadata": {
                  "tags": [],
                  "needs_background": "light"
                },
                "image/png": "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\n",
                "text/plain": "<Figure size 432x288 with 2 Axes>"
              },
              {
                "output_type": "stream",
                "metadata": {
                  "tags": []
                },
                "text": "10000\n",
                "stream": "stdout"
              },
              {
                "output_type": "display_data",
                "metadata": {
                  "tags": [],
                  "needs_background": "light"
                },
                "image/png": "iVBORw0KGgoAAAANSUhEUgAAAVoAAAEFCAYAAACiiS9UAAAABHNCSVQICAgIfAhkiAAAAAlwSFlzAAALEgAACxIB0t1+/AAAADh0RVh0U29mdHdhcmUAbWF0cGxvdGxpYiB2ZXJzaW9uMy4yLjEsIGh0dHA6Ly9tYXRwbG90bGliLm9yZy+j8jraAAAYSElEQVR4nO3debgcVZnH8e8vQRZJwCWuSdhCAAEZZBRUVJgBnIBKeNxYXIhbFEQdQRSXYRBxXFBRHhggKA+oSATnQa8SxFFZlEUSjEYSCGQCkgQBA4RVgXvvO3/UuVC0t7urkz501+X3yVNPajl96lTfum+f+9apakUEZmaWz7heN8DMbKxzoDUzy8yB1swsMwdaM7PMHGjNzDJzoDUzy8yBtgOS9pS0ssX2syWdkGG/L5B0haQHJH292/XXjaQHJW3VYvutkvZ+KtvUTZIuk/T+THVnOUettb4KtOkX5G/pF2lkOqXX7eoDs4HVwCYRcVTjRklHS7o+BeJbJB3drCJJW0gKSevlbHBOETEhIpaDA0crkmZJ+m2mur8g6U+SBiUdl2MfY0k//rK9KSJ+2etG9JnNgSXR/O4SAe8GFgHTgF9IWhERc9dmZ5LWi4jBtWuqPU0sAz4JfKjXDamDvurRtjLy6Szpa5LuTT23fRu2Ly/16t5R2vZeSTek110iafPStpB0uKSb02u/IGmapKsk3S/pfEnrN7TlM5JWpx74O2hC0hsl/UHSmlTfTi3KvlrSfEn3pf9fndafDRwKfDL18P/hT+KI+GpE/D4iBiNiKfATYPcmu7oi/b8m1feq9N5dKekkSXcDx0naIL3Xt0m6U9LpkjaqcmySPiVpVXo/l0raq9lxl17zHkk/LS3fLOmC0vIKSTun+ZC0taTZwDtK781PS1XuLGlRej9/KGnDJvstH/uadA69Oq1fIekuSYeWyr9B0sJ0bqwo9+YkHZjOvU3S8r6S7pD0vDbHvo+kG1NbT6H44Cxvb3f+fjS1e7WkEyWNk/QS4HTgVem9WVOq8tmSLko/n99JmtaqfaOJiHMi4mLggU5f+7QUEX0zAbcCezfZNgt4DPgAMB44DLid4qTcGLgf2DaVfRGwQ5qfSfHp+xKKHvzngKtK9QZFYNoE2AF4BPgVsBWwKbAEODSV3RMYBL4BbADsATxU2u/ZwAlp/mXAXcBuqb2HpuPbYJRjew5wL/Cu1MaD0/JzG+ut8B4KWAh8qMn2LdIxr9fw3g4CH0n73wg4CRhIbZsI/BT4UrtjA7YFVgAvLu1vWoV2bwWsofjwfzHwZ2Bladu9wLjSz2zrZu9Nasu1qZ7nADe0eD9Gjv096VhOAG4DTk3H83qKYDKhdA68NLVzJ+BO4IBSfeemNj2X4vx8Y5vjnpTqfyvwDODjqT3v7+D8vTQd52bATaXXzgJ+27C/s4G7gV1TfecCc0vbF6Wfw2jTf4/S/u8Dx/U6dvT71PMGNPzQbgUebPjhfqB00iwrlX1mOsleSBFo1wBvATZqqPNi4H2l5XHAw8DmpRN199L264BPlZa/Dnwzze+Zfgk2Lm0/H/iPNH82TwTa04AvNLRlKbDHKMf9LuDahnVXA7Ma663wHn4e+COjBPS0fQtGD7S3lZZF8QEyrbTuVcAt7Y4N2JoiCO8NPKPDn/8KYBfgIGAORbDcjiIIDpTKVQm07ywtfxU4vck+ZwE3l5Zfmup/QWnd3cDOTV7/TeCk0vKzKAL1n4AzKhzzu4FrGt77lTwRLKucvzNK2w8HflU6ttEC7bdLy/sBN67D76wDbYWpH1MHB0TEs0rTmaVtd4zMRMTDaXZCRDwEHEiRL/pL+rNou7R9c+Bb6c/CNcA9FCfz5FK9d5bm/zbK8oTS8r1pfyP+TNFzarQ5cNTIftO+pzYpO9KDK/tzQxvbknQExS/uGyLikU5eSxHkRjyP4oPsulLbf57WQ4tji4hlwL8DxwF3SZorabRjHs3lFB9mr0vzl1EE7z3ScifuKM0/zJN/ho0af95ExKjngKTdJF0q6a+S7qM45yaNFIyINcAFwI4UH9LtvJjSex9F9Cr/LKqcv+Xyzc7Hsk7eG+uCfgy0ayUiLomIfSjSBjcCIwF6BfDBhuC9UURctZa7erakjUvLm1H8idhoBfDFhv0+MyLOG6Xs7RS/UGWbAauqNkrSe4FjgL0ioukQNIoeULv1qymCyw6ltm8aESO/kC2PLSJ+EBGvSccUwFcqHsZIoH1tmr+c9oH2qX783A8oUipTI2JTijzo4znVlEd+L3AecHKF+v5C8SE18nqVl6l2/pbLl8/Hjt8bSYv15FE/5en0TuuzwpgItCrGmc5MAfARivTDcNp8OvBpSTuksptKets67vLzktaX9FrgjRQ9mEZnAh9KPSBJ2jhdSJk4Stl5wDaSDpG0nqQDge2Bn1VpjIoLcv8F7BNp2FMLf6V4b5qOQ42I4dT+kyQ9P+1jsqR/a3dskraV9K+SNgD+ThGwh1Mde0pq9ct/OfAvFOmflcBvgBkU+c6FTV5zZ6tjyWAicE9E/F3SrsAhIxvSBbfvA5+hSHdMlnR4m/ouAnaQ9GYVQ+4+SpEOG1Hl/D1a0rMlTQU+Bvwwrb8TmKKGi7mtRMQOUQyfG216fISBpGek4x0HrCdpQ0njq+7n6aYfA+1PGz5FL6zwmnHAkRSf5PdQ9IAOA4iICyl6VHMl3Q9cD+zbpJ4q7qC4MHM7xYWED0XEjY2FImIBxYW7U1L5ZRQ5s38QEXdTBOyjKPKBn6S4iLK6YptOoAhG89v1PlLK5YvAlenP0Vc2qfNTqc3XpPftlxQXutod2wbAlyl6xXcAzwc+nbZNBZr+JRERN1F8SP4mLd8PLAeujIihJi/7DrB9OpYfN6u7iw4Hjpf0AHAsRY5+xJeAFRFxWkrdvBM4QdL0ZpWln/HbKN6zu4HpwJWl7VXO359QXFv4A0Xg/k5a/2tgMXCHpKrnUlVnUnyIHgx8Ns2/q8v7GDNUpITM8pP0beCCiLik120ZK9JfCNNTbtz6lAOtWY050NZDP6YOzMYUSa9tdoGp122zfyTpLBU3qlzfZLsknSxpmYqbYnZpW6d7tGZmT5D0OoprBd+NiB1H2b4fxc09+1HctPOtiNitVZ3u0ZqZlUTEFRQX1ZuZSRGEIyKuAZ4l6UWt6szyUJkbt9nP3WQzq2S7m+apfanWHlu9vHLMWf950z5I8US8EXMiYk4Hu5vMk28SWZnW/aXZC/rx6V1mZtmkoNpJYF1nDrRmVn/DzYZZZ7GKJ9+NN4U2d3E6R2tm9Tc0WH1adwPAu9Pog1cC90VE07QBuEdrZmNAcdd4d0g6j+KZG5NUfHXVf1I8wpKIOJ3ilvn9KO6IfJjiduuWHGjNrP6GuxdoI+LgNtsD+HAndTrQmln9dbFHm4MDrZnV31N7MaxjDrRmVn/u0ZqZ5RXdGU2QjQOtmdVfFy+G5eBAa2b159SBmVlmvhhmZpaZe7RmZpn5YpiZWWa+GGZmllfzL0nuDw60ZlZ/ztGamWXm1IGZWWbu0ZqZZTb0WK9b0JIDrZnVn1MHZmaZOXVgZpaZe7RmZpk50JqZ5RW+GGZmlplztGZmmTl1YGaWmXu0ZmaZuUdrZpaZe7RmZpkN+sHfZmZ5uUdrZpaZc7RmZpm5R2tmlpl7tGZmmblHa2aWmUcdmJllFtHrFrTkQGtm9eccrZlZZn0eaMf1ugFmZusshqtPbUiaIWmppGWSjhll+2aSLpW0UNIiSfu1q9M9WjOrv6GhrlQjaTxwKrAPsBKYL2kgIpaUin0OOD8iTpO0PTAP2KJVvQ60ZlZ/3Usd7Aosi4jlAJLmAjOBcqANYJM0vylwe7tKHWjNrP46CLSSZgOzS6vmRMScND8ZWFHathLYraGK44BfSPoIsDGwd7t9OtCaWf11cMNCCqpz2hZs7mDg7Ij4uqRXAd+TtGNE80Y40JpZ7cVw18bRrgKmlpanpHVl7wNmAETE1ZI2BCYBdzWr1KMOzKz+hoerT63NB6ZL2lLS+sBBwEBDmduAvQAkvQTYEPhrq0rdozWz+uvSqIOIGJR0BHAJMB44KyIWSzoeWBARA8BRwJmSPk5xYWxWROtb0xxozaz+unjDQkTMoxiyVV53bGl+CbB7J3U60JpZ/fX5nWEOtGZWf36ojJlZZu7Rmpll1r3hXVk40JpZ/XVp1EEuDrRmVnvh1IGZWWZOHZiZZeYvZzQzy8w9WjOzzAZ9MczMLC+nDszMMnPqwMwsLw/vMjPLzT1aM7PMHGjNzDLzLbhmZnl18TvDsnCgNbP6c6A1M8vMow7MzDJzj9bMLDMHWjOzvGLIqQMzs7zcozUzy8vDu8zMcnOgNTPLrL9TtA60ZlZ/MdjfkdaB1szqr7/jrAOtmdWfL4aZmeXmHq2ZWV7u0ZqZ5eYerZlZXjHY6xa05kBrZrXX5982zrheN8DMbJ0NdzC1IWmGpKWSlkk6pkmZt0taImmxpB+0q9M9WjOrvW71aCWNB04F9gFWAvMlDUTEklKZ6cCngd0j4l5Jz29Xr3u0ZlZ7MVx9amNXYFlELI+IR4G5wMyGMh8ATo2IewEi4q52lTrQmlntxZAqT5JmS1pQmmaXqpoMrCgtr0zryrYBtpF0paRrJM1o1z6nDsys9jpJHUTEHGDOOuxuPWA6sCcwBbhC0ksjYk2rF5iZ1VoMq1tVrQKmlpanpHVlK4HfRcRjwC2SbqIIvPObVerUgZnVXhdztPOB6ZK2lLQ+cBAw0FDmxxS9WSRNokglLG9VqXu0ZlZ7Ed3p0UbEoKQjgEuA8cBZEbFY0vHAgogYSNteL2kJMAQcHRF3t6rXgdbMaq+bNyxExDxgXsO6Y0vzARyZpkoqpQ4kbSPpV5KuT8s7Sfpc1Z2YmeU0PKTKUy9UzdGeSTFA9zGAiFhEkbswM+u5GFblqReqpg6eGRHXSk9qZJ8/xsHMni56FUCrqhpoV0uaBgSApLcCf8nWKjOzDkR/P462cqD9MMUA3+0krQJuAd6ZrVVmZh0YEz3aiFgO7C1pY2BcRDyQt1lmZtV1a3hXLi0DraRRhy+M5Goj4hsZ2mRm1pGhHo0mqKpdj3Zi+n9b4BU8cYfEm4BrczXKzKwTte7RRsTnASRdAewykjKQdBxwUfbWmZlVMCZytMALgEdLy4+mdWZmPTdWRh18F7hW0oVp+QDgnDxNMjPrzJjo0UbEFyVdDLw2rXpPRCzM1ywzs+qGhvv7QYSVAq2kzYDVwIXldRFxW66GmZlVNVZSBxeR7goDNgK2BJYCO+RolJlZJ4brPOpgRES8tLwsaRfg8CwtMjPrUK2HdzUTEb+XtFu3G2NmtjbGROqg4Q6xccAuwO1ZWmRm1qExkTrgiTvEoHg84kXA/3S/OWZmnRsTow6AJRFxQXmFpLcBFzQpb2b2lOnzzEHlb1j4dMV1ZmZPueFQ5akX2j29a19gP2CypJNLmzbB37BgZn2i7qMObgcWAPsD15XWPwB8PFejzMw60cUvwc2i3dO7/gj8UdK5EeEerJn1paDGPVpJ50fE24GFkv4h3xwRO2VrmZlZRYM1Tx18LP3/xtwNMTNbW/3eo2056iAiRr7p9vCI+HN5wrfgmlmfGO5g6oWqw7v2GWXdvt1siJnZ2gpUeeqFdjnawyh6rltJWlTaNBG4MmfDzMyqqvWoA+AHwMXAl4BjSusfiIh7srXKzKwDQ32eo203vOs+4D7gYABJzwc2BCZImuAHf5tZP+jzb7KplqOV9CZJNwO3AJcDt1L0dM3Mem4YVZ56oerFsBOAVwI3RcSWwF7ANdlaZWbWgehg6oWqgfaxiLgbGCdpXERcCrw8Y7vMzCrr9+FdVR+TuEbSBOAK4FxJdwEP5WuWmVl1w+rvJG3VHu1M4G8UD5L5OfB/wJtyNcrMrBNDHUy9UCnQRsRDETEUEYMRcU5EnJxSCWZmPTes6lM7kmZIWippmaRjWpR7i6SQ1DaN2u6GhQcYPX8sICJik7atNjPLrFujCSSNB06luBt2JTBf0kBELGkoN5HiWTC/q1Jvu2cdTIyITUaZJjrImlm/6OKog12BZRGxPCIeBeZSpE4bfQH4CvD3Ku3r7280MzOroJPUgaTZkhaUptmlqiYDK0rLK9O6x0naBZgaERdVbV/VUQdmZn2rk2FbETEHmLM2+5E0DvgGMKuT1znQmlntDXVvdNcqYGppeUpaN2IisCNwmYohZS8EBiTtHxELmlXqQGtmtdfFGxHmA9MlbUkRYA8CDhnZmJ7/MmlkWdJlwCdaBVlwjtbMxoBu3RmWvhvxCOAS4Abg/IhYLOl4SfuvbfvcozWz2uvmV4ZFxDxgXsO6Y5uU3bNKnQ60ZlZ7dX/wt5lZ3+vVrbVVOdCaWe31+4O/HWjNrPacOjAzy8yB1swss159c0JVDrRmVnvO0ZqZZeZRB2ZmmQ33efLAgdbMas8Xw8zMMuvv/qwDrZmNAe7RmpllNqj+7tM60JpZ7fV3mHWgNbMxwKkDM7PMPLzLzCyz/g6zDrRmNgY4dWBmltlQn/dpHWjNrPbcozUzyyzcozUzy8s9WjOzzDy8y8wss/4Osw60ZjYGDPZ5qHWgNbPa88UwM7PMfDHMzCwz92jNzDJzj9bMLLOhcI/WzCwrj6M1M8vMOVozs8ycozUzy6zfUwfjet0AM7N1FR38a0fSDElLJS2TdMwo24+UtETSIkm/krR5uzodaM2s9oYiKk+tSBoPnArsC2wPHCxp+4ZiC4GXR8ROwI+Ar7ZrnwOtmdXeMFF5amNXYFlELI+IR4G5wMxygYi4NCIeTovXAFPaVepAa2a1N9zBJGm2pAWlaXapqsnAitLyyrSumfcBF7drny+GmVntdTK8KyLmAHPWdZ+S3gm8HNijXVkHWjOrvS6OOlgFTC0tT0nrnkTS3sBngT0i4pF2lTrQmlntRfduwZ0PTJe0JUWAPQg4pFxA0suAM4AZEXFXlUodaM2s9rr1deMRMSjpCOASYDxwVkQslnQ8sCAiBoATgQnABZIAbouI/VvV60BrZrXXzRsWImIeMK9h3bGl+b07rdOB1sxqr4upgywcaM2s9vr9FlwHWjOrPT+9y8wsMz/428wsM6cOzMwyc6A1M8vMow7MzDJzj9bMLDOPOjAzy2wo+vtbwxxozaz2nKM1M8vMOVozs8ycozUzy2zYqQMzs7zcozUzy8yjDszMMnPqwMwsM6cOzMwyc4/WzCwz92jNzDIbiqFeN6ElB1ozqz3fgmtmlplvwTUzy8w9WjOzzDzqwMwsM486MDPLzLfgmpll5hytmVlmztGamWXmHq2ZWWYeR2tmlpl7tGZmmXnUgZlZZr4YZmaWWb+nDsb1ugFmZusqOvjXjqQZkpZKWibpmFG2byDph2n77yRt0a5OB1ozq72IqDy1Imk8cCqwL7A9cLCk7RuKvQ+4NyK2Bk4CvtKufQ60ZlZ7wxGVpzZ2BZZFxPKIeBSYC8xsKDMTOCfN/wjYS5JaVZolR7vdTfNa7tTMrJsGH11VOeZImg3MLq2aExFz0vxkYEVp20pgt4YqHi8TEYOS7gOeC6xutk9fDDOzp5UUVOe0LdhFTh2YmT1hFTC1tDwlrRu1jKT1gE2Bu1tV6kBrZvaE+cB0SVtKWh84CBhoKDMAHJrm3wr8OtpcZXPqwMwsSTnXI4BLgPHAWRGxWNLxwIKIGAC+A3xP0jLgHopg3JL6faCvPbUkPRgRE7pc5/7A9hHxZUkHADdFxJIO67gM+ERELOhm28yeCk4dWHYRMRARX06LB1CMTzR72nCgtVGpcKKk6yX9SdKBaf2eki6T9CNJN0o6d2QMoaT90rrrJJ0s6Wdp/SxJp0h6NbA/cKKkP0ialup6eSo3SdKtaX4jSXMl3SDpQmCjUtteL+lqSb+XdIGkrvbAzbrNOVpr5s3AzsA/AZOA+ZKuSNteBuwA3A5cCewuaQFwBvC6iLhF0nmNFUbEVZIGgJ9FxI8AWozzPgx4OCJeImkn4Pep/CTgc8DeEfGQpE8BRwLHd+OgzXJwoLVmXgOcFxFDwJ2SLgdeAdwPXBsRKwEk/QHYAngQWB4Rt6TXn8eTB4V36nXAyQARsUjSorT+lRSphytTkF4fuHod9mOWnQOtrY1HSvNDrNt5NMgTKawNK5QX8L8RcfA67NPsKeUcrTXzG+BASeMlPY+ih3lti/JLga1KTzI6sEm5B4CJpeVbgX9O828trb8COARA0o7ATmn9NRSpiq3Tto0lbVPheMx6xoHWmrkQWAT8Efg18MmIuKNZ4Yj4G3A48HNJ11EE1PtGKToXOFrSQknTgK8Bh0laSJELHnEaMEHSDRT51+vSfv4KzALOS+mEq4Ht1uVAzXLzOFrrGkkTIuLBNArhVODmiDip1+0y6zX3aK2bPpAuji2muP/7jB63x6wvuEdrZpaZe7RmZpk50JqZZeZAa2aWmQOtmVlmDrRmZpn9P5fgyCBvw9MKAAAAAElFTkSuQmCC\n",
                "text/plain": "<Figure size 432x288 with 2 Axes>"
              },
              {
                "output_type": "display_data",
                "metadata": {
                  "tags": []
                },
                "text/plain": "[array([0.56118155, 0.56118155, 0.56118155, ..., 0.47493986, 0.47493986,\n        0.47493986]),\n array([0.56118155, 0.56118155, 0.56118155, ..., 0.47493986, 0.47493986,\n        0.47493986])]"
              }
            ],
            "_view_module": "@jupyter-widgets/output",
            "_model_module_version": "1.0.0",
            "_view_count": null,
            "_view_module_version": "1.0.0",
            "layout": "IPY_MODEL_035deee5a4e54bf4a38671cf2288294c",
            "_model_module": "@jupyter-widgets/output"
          }
        },
        "5f3d5090119d42d9b6ab6f6c2c32e90d": {
          "model_module": "@jupyter-widgets/controls",
          "model_name": "SliderStyleModel",
          "state": {
            "_view_name": "StyleView",
            "handle_color": null,
            "_model_name": "SliderStyleModel",
            "description_width": "",
            "_view_module": "@jupyter-widgets/base",
            "_model_module_version": "1.5.0",
            "_view_count": null,
            "_view_module_version": "1.2.0",
            "_model_module": "@jupyter-widgets/controls"
          }
        },
        "eb9ceae4f7be40d0b4bbe50fe4fc42d9": {
          "model_module": "@jupyter-widgets/base",
          "model_name": "LayoutModel",
          "state": {
            "_view_name": "LayoutView",
            "grid_template_rows": null,
            "right": null,
            "justify_content": null,
            "_view_module": "@jupyter-widgets/base",
            "overflow": null,
            "_model_module_version": "1.2.0",
            "_view_count": null,
            "flex_flow": null,
            "width": null,
            "min_width": null,
            "border": null,
            "align_items": null,
            "bottom": null,
            "_model_module": "@jupyter-widgets/base",
            "top": null,
            "grid_column": null,
            "overflow_y": null,
            "overflow_x": null,
            "grid_auto_flow": null,
            "grid_area": null,
            "grid_template_columns": null,
            "flex": null,
            "_model_name": "LayoutModel",
            "justify_items": null,
            "grid_row": null,
            "max_height": null,
            "align_content": null,
            "visibility": null,
            "align_self": null,
            "height": null,
            "min_height": null,
            "padding": null,
            "grid_auto_rows": null,
            "grid_gap": null,
            "max_width": null,
            "order": null,
            "_view_module_version": "1.2.0",
            "grid_template_areas": null,
            "object_position": null,
            "object_fit": null,
            "grid_auto_columns": null,
            "margin": null,
            "display": null,
            "left": null
          }
        },
        "65f7a696d4e940d5b7dd6b28a60b39aa": {
          "model_module": "@jupyter-widgets/controls",
          "model_name": "SliderStyleModel",
          "state": {
            "_view_name": "StyleView",
            "handle_color": null,
            "_model_name": "SliderStyleModel",
            "description_width": "",
            "_view_module": "@jupyter-widgets/base",
            "_model_module_version": "1.5.0",
            "_view_count": null,
            "_view_module_version": "1.2.0",
            "_model_module": "@jupyter-widgets/controls"
          }
        },
        "8d3b93ea1cc54c3cb31bcb3b1e45d7ea": {
          "model_module": "@jupyter-widgets/base",
          "model_name": "LayoutModel",
          "state": {
            "_view_name": "LayoutView",
            "grid_template_rows": null,
            "right": null,
            "justify_content": null,
            "_view_module": "@jupyter-widgets/base",
            "overflow": null,
            "_model_module_version": "1.2.0",
            "_view_count": null,
            "flex_flow": null,
            "width": null,
            "min_width": null,
            "border": null,
            "align_items": null,
            "bottom": null,
            "_model_module": "@jupyter-widgets/base",
            "top": null,
            "grid_column": null,
            "overflow_y": null,
            "overflow_x": null,
            "grid_auto_flow": null,
            "grid_area": null,
            "grid_template_columns": null,
            "flex": null,
            "_model_name": "LayoutModel",
            "justify_items": null,
            "grid_row": null,
            "max_height": null,
            "align_content": null,
            "visibility": null,
            "align_self": null,
            "height": null,
            "min_height": null,
            "padding": null,
            "grid_auto_rows": null,
            "grid_gap": null,
            "max_width": null,
            "order": null,
            "_view_module_version": "1.2.0",
            "grid_template_areas": null,
            "object_position": null,
            "object_fit": null,
            "grid_auto_columns": null,
            "margin": null,
            "display": null,
            "left": null
          }
        },
        "035deee5a4e54bf4a38671cf2288294c": {
          "model_module": "@jupyter-widgets/base",
          "model_name": "LayoutModel",
          "state": {
            "_view_name": "LayoutView",
            "grid_template_rows": null,
            "right": null,
            "justify_content": null,
            "_view_module": "@jupyter-widgets/base",
            "overflow": null,
            "_model_module_version": "1.2.0",
            "_view_count": null,
            "flex_flow": null,
            "width": null,
            "min_width": null,
            "border": null,
            "align_items": null,
            "bottom": null,
            "_model_module": "@jupyter-widgets/base",
            "top": null,
            "grid_column": null,
            "overflow_y": null,
            "overflow_x": null,
            "grid_auto_flow": null,
            "grid_area": null,
            "grid_template_columns": null,
            "flex": null,
            "_model_name": "LayoutModel",
            "justify_items": null,
            "grid_row": null,
            "max_height": null,
            "align_content": null,
            "visibility": null,
            "align_self": null,
            "height": null,
            "min_height": null,
            "padding": null,
            "grid_auto_rows": null,
            "grid_gap": null,
            "max_width": null,
            "order": null,
            "_view_module_version": "1.2.0",
            "grid_template_areas": null,
            "object_position": null,
            "object_fit": null,
            "grid_auto_columns": null,
            "margin": null,
            "display": null,
            "left": null
          }
        }
      }
    }
  },
  "cells": [
    {
      "cell_type": "markdown",
      "metadata": {
        "id": "view-in-github",
        "colab_type": "text"
      },
      "source": [
        "<a href=\"https://colab.research.google.com/github/vjmiyagi/DS-Unit-2-Kaggle-Challenge/blob/master/module2-random-forests/VJM_LS_DSPT_222_assignment.ipynb\" target=\"_parent\"><img src=\"https://colab.research.google.com/assets/colab-badge.svg\" alt=\"Open In Colab\"/></a>"
      ]
    },
    {
      "cell_type": "markdown",
      "metadata": {
        "id": "7lFDrEBy7zrx",
        "colab_type": "text"
      },
      "source": [
        "Lambda School Data Science\n",
        "\n",
        "*Unit 2, Sprint 2, Module 2*\n",
        "\n",
        "---"
      ]
    },
    {
      "cell_type": "markdown",
      "metadata": {
        "colab_type": "text",
        "id": "7IXUfiQ2UKj6"
      },
      "source": [
        "# Random Forests\n",
        "\n",
        "## Assignment\n",
        "- [ ] Read [“Adopting a Hypothesis-Driven Workflow”](http://archive.is/Nu3EI), a blog post by a Lambda DS student about the Tanzania Waterpumps challenge.\n",
        "- [ ] Continue to participate in our Kaggle challenge.\n",
        "- [ ] Define a function to wrangle train, validate, and test sets in the same way. Clean outliers and engineer features.\n",
        "- [ ] Try Ordinal Encoding.\n",
        "- [ ] Try a Random Forest Classifier.\n",
        "- [ ] Submit your predictions to our Kaggle competition. (Go to our Kaggle InClass competition webpage. Use the blue **Submit Predictions** button to upload your CSV file. Or you can use the Kaggle API to submit your predictions.)\n",
        "- [ ] Commit your notebook to your fork of the GitHub repo.\n",
        "\n",
        "## Stretch Goals\n",
        "\n",
        "### Doing\n",
        "- [ ] Add your own stretch goal(s) !\n",
        "- [ ] Do more exploratory data analysis, data cleaning, feature engineering, and feature selection.\n",
        "- [ ] Try other [categorical encodings](https://contrib.scikit-learn.org/category_encoders/).\n",
        "- [ ] Get and plot your feature importances.\n",
        "- [ ] Make visualizations and share on Slack.\n",
        "\n",
        "### Reading\n",
        "\n",
        "Top recommendations in _**bold italic:**_\n",
        "\n",
        "#### Decision Trees\n",
        "- A Visual Introduction to Machine Learning, [Part 1: A Decision Tree](http://www.r2d3.us/visual-intro-to-machine-learning-part-1/),  and _**[Part 2: Bias and Variance](http://www.r2d3.us/visual-intro-to-machine-learning-part-2/)**_\n",
        "- [Decision Trees: Advantages & Disadvantages](https://christophm.github.io/interpretable-ml-book/tree.html#advantages-2)\n",
        "- [How a Russian mathematician constructed a decision tree — by hand — to solve a medical problem](http://fastml.com/how-a-russian-mathematician-constructed-a-decision-tree-by-hand-to-solve-a-medical-problem/)\n",
        "- [How decision trees work](https://brohrer.github.io/how_decision_trees_work.html)\n",
        "- [Let’s Write a Decision Tree Classifier from Scratch](https://www.youtube.com/watch?v=LDRbO9a6XPU)\n",
        "\n",
        "#### Random Forests\n",
        "- [_An Introduction to Statistical Learning_](http://www-bcf.usc.edu/~gareth/ISL/), Chapter 8: Tree-Based Methods\n",
        "- [Coloring with Random Forests](http://structuringtheunstructured.blogspot.com/2017/11/coloring-with-random-forests.html)\n",
        "- _**[Random Forests for Complete Beginners: The definitive guide to Random Forests and Decision Trees](https://victorzhou.com/blog/intro-to-random-forests/)**_\n",
        "\n",
        "#### Categorical encoding for trees\n",
        "- [Are categorical variables getting lost in your random forests?](https://roamanalytics.com/2016/10/28/are-categorical-variables-getting-lost-in-your-random-forests/)\n",
        "- [Beyond One-Hot: An Exploration of Categorical Variables](http://www.willmcginnis.com/2015/11/29/beyond-one-hot-an-exploration-of-categorical-variables/)\n",
        "- _**[Categorical Features and Encoding in Decision Trees](https://medium.com/data-design/visiting-categorical-features-and-encoding-in-decision-trees-53400fa65931)**_\n",
        "- _**[Coursera — How to Win a Data Science Competition: Learn from Top Kagglers — Concept of mean encoding](https://www.coursera.org/lecture/competitive-data-science/concept-of-mean-encoding-b5Gxv)**_\n",
        "- [Mean (likelihood) encodings: a comprehensive study](https://www.kaggle.com/vprokopev/mean-likelihood-encodings-a-comprehensive-study)\n",
        "- [The Mechanics of Machine Learning, Chapter 6: Categorically Speaking](https://mlbook.explained.ai/catvars.html)\n",
        "\n",
        "#### Imposter Syndrome\n",
        "- [Effort Shock and Reward Shock (How The Karate Kid Ruined The Modern World)](http://www.tempobook.com/2014/07/09/effort-shock-and-reward-shock/)\n",
        "- [How to manage impostor syndrome in data science](https://towardsdatascience.com/how-to-manage-impostor-syndrome-in-data-science-ad814809f068)\n",
        "- [\"I am not a real data scientist\"](https://brohrer.github.io/imposter_syndrome.html)\n",
        "- _**[Imposter Syndrome in Data Science](https://caitlinhudon.com/2018/01/19/imposter-syndrome-in-data-science/)**_\n",
        "\n",
        "\n",
        "### More Categorical Encodings\n",
        "\n",
        "**1.** The article **[Categorical Features and Encoding in Decision Trees](https://medium.com/data-design/visiting-categorical-features-and-encoding-in-decision-trees-53400fa65931)** mentions 4 encodings:\n",
        "\n",
        "- **\"Categorical Encoding\":** This means using the raw categorical values as-is, not encoded. Scikit-learn doesn't support this, but some tree algorithm implementations do. For example, [Catboost](https://catboost.ai/), or R's [rpart](https://cran.r-project.org/web/packages/rpart/index.html) package.\n",
        "- **Numeric Encoding:** Synonymous with Label Encoding, or \"Ordinal\" Encoding with random order. We can use [category_encoders.OrdinalEncoder](https://contrib.scikit-learn.org/category_encoders/ordinal.html).\n",
        "- **One-Hot Encoding:** We can use [category_encoders.OneHotEncoder](https://contrib.scikit-learn.org/category_encoders/onehot.html).\n",
        "- **Binary Encoding:** We can use [category_encoders.BinaryEncoder](https://contrib.scikit-learn.org/category_encoders/binary.html).\n",
        "\n",
        "\n",
        "**2.** The short video \n",
        "**[Coursera — How to Win a Data Science Competition: Learn from Top Kagglers — Concept of mean encoding](https://www.coursera.org/lecture/competitive-data-science/concept-of-mean-encoding-b5Gxv)** introduces an interesting idea: use both X _and_ y to encode categoricals.\n",
        "\n",
        "Category Encoders has multiple implementations of this general concept:\n",
        "\n",
        "- [CatBoost Encoder](https://contrib.scikit-learn.org/category_encoders/catboost.html)\n",
        "- [Generalized Linear Mixed Model Encoder](https://contrib.scikit-learn.org/category_encoders/glmm.html)\n",
        "- [James-Stein Encoder](https://contrib.scikit-learn.org/category_encoders/jamesstein.html)\n",
        "- [Leave One Out](https://contrib.scikit-learn.org/category_encoders/leaveoneout.html)\n",
        "- [M-estimate](https://contrib.scikit-learn.org/category_encoders/mestimate.html)\n",
        "- [Target Encoder](https://contrib.scikit-learn.org/category_encoders/targetencoder.html)\n",
        "- [Weight of Evidence](https://contrib.scikit-learn.org/category_encoders/woe.html)\n",
        "\n",
        "Category Encoder's mean encoding implementations work for regression problems or binary classification problems. \n",
        "\n",
        "For multi-class classification problems, you will need to temporarily reformulate it as binary classification. For example:\n",
        "\n",
        "```python\n",
        "encoder = ce.TargetEncoder(min_samples_leaf=..., smoothing=...) # Both parameters > 1 to avoid overfitting\n",
        "X_train_encoded = encoder.fit_transform(X_train, y_train=='functional')\n",
        "X_val_encoded = encoder.transform(X_train, y_val=='functional')\n",
        "```\n",
        "\n",
        "For this reason, mean encoding won't work well within pipelines for multi-class classification problems.\n",
        "\n",
        "**3.** The **[dirty_cat](https://dirty-cat.github.io/stable/)** library has a Target Encoder implementation that works with multi-class classification.\n",
        "\n",
        "```python\n",
        " dirty_cat.TargetEncoder(clf_type='multiclass-clf')\n",
        "```\n",
        "It also implements an interesting idea called [\"Similarity Encoder\" for dirty categories](https://www.slideshare.net/GaelVaroquaux/machine-learning-on-non-curated-data-154905090).\n",
        "\n",
        "However, it seems like dirty_cat doesn't handle missing values or unknown categories as well as category_encoders does. And you may need to use it with one column at a time, instead of with your whole dataframe.\n",
        "\n",
        "**4. [Embeddings](https://www.kaggle.com/colinmorris/embedding-layers)** can work well with sparse / high cardinality categoricals.\n",
        "\n",
        "_**I hope it’s not too frustrating or confusing that there’s not one “canonical” way to encode categoricals. It’s an active area of research and experimentation — maybe you can make your own contributions!**_"
      ]
    },
    {
      "cell_type": "markdown",
      "metadata": {
        "id": "mf5EK1tA7zrz",
        "colab_type": "text"
      },
      "source": [
        "### Setup\n",
        "\n",
        "You can work locally (follow the [local setup instructions](https://lambdaschool.github.io/ds/unit2/local/)) or on Colab (run the code cell below)."
      ]
    },
    {
      "cell_type": "code",
      "metadata": {
        "colab_type": "code",
        "id": "o9eSnDYhUGD7",
        "colab": {}
      },
      "source": [
        "%%capture\n",
        "import sys\n",
        "\n",
        "# If you're on Colab:\n",
        "if 'google.colab' in sys.modules:\n",
        "    DATA_PATH = 'https://raw.githubusercontent.com/LambdaSchool/DS-Unit-2-Kaggle-Challenge/master/data/'\n",
        "    !pip install category_encoders==2.*\n",
        "\n",
        "# If you're working locally:\n",
        "else:\n",
        "    DATA_PATH = '../data/'"
      ],
      "execution_count": 0,
      "outputs": []
    },
    {
      "cell_type": "code",
      "metadata": {
        "colab_type": "code",
        "id": "QJBD4ruICm1m",
        "colab": {
          "base_uri": "https://localhost:8080/",
          "height": 33
        },
        "outputId": "b8cac12d-faa4-4080-c660-ef64e4f5dc37"
      },
      "source": [
        "import numpy as np\n",
        "import pandas as pd\n",
        "\n",
        "from sklearn.model_selection import train_test_split\n",
        "\n",
        "train = pd.merge(pd.read_csv(DATA_PATH+'waterpumps/train_features.csv'), \n",
        "                 pd.read_csv(DATA_PATH+'waterpumps/train_labels.csv'))\n",
        "test = pd.read_csv(DATA_PATH+'waterpumps/test_features.csv')\n",
        "sample_submission = pd.read_csv(DATA_PATH+'waterpumps/sample_submission.csv')\n",
        "\n",
        "train.shape, test.shape"
      ],
      "execution_count": 3,
      "outputs": [
        {
          "output_type": "execute_result",
          "data": {
            "text/plain": [
              "((59400, 41), (14358, 40))"
            ]
          },
          "metadata": {
            "tags": []
          },
          "execution_count": 3
        }
      ]
    },
    {
      "cell_type": "code",
      "metadata": {
        "id": "hsBJwDOk7zr6",
        "colab_type": "code",
        "colab": {}
      },
      "source": [
        "# Split train into train and val\n",
        "train, val = train_test_split(train, train_size=0.80, test_size = 0.20,\n",
        "                              stratify=train['status_group'], random_state=42)"
      ],
      "execution_count": 0,
      "outputs": []
    },
    {
      "cell_type": "markdown",
      "metadata": {
        "id": "d-RvAj8tZw4q",
        "colab_type": "text"
      },
      "source": [
        "#  Read [“Adopting a Hypothesis-Driven Workflow”](http://archive.is/Nu3EI), a blog post by a Lambda DS student about the Tanzania Waterpumps challenge.\n",
        "\n",
        "\n",
        "\n",
        "\n"
      ]
    },
    {
      "cell_type": "markdown",
      "metadata": {
        "id": "fXbabgUzZ2AE",
        "colab_type": "text"
      },
      "source": [
        "#  Continue to participate in our Kaggle challenge.\n"
      ]
    },
    {
      "cell_type": "markdown",
      "metadata": {
        "id": "EF5GhWPXaD7J",
        "colab_type": "text"
      },
      "source": [
        "#  Define a function to wrangle train, validate, and test sets in the same way. Clean outliers and engineer features.\n"
      ]
    },
    {
      "cell_type": "code",
      "metadata": {
        "id": "Yrg3gs3BJVxM",
        "colab_type": "code",
        "colab": {}
      },
      "source": [
        "def wrangle(X):\n",
        "    # Wrangle train, validate and test datasets \n",
        "\n",
        "    # Error prevention\n",
        "    X = X.copy()\n",
        "\n",
        "    # Deal with unwanted zeros\n",
        "    cols_with_zeros = ['latitude', 'longitude', 'construction_year',\n",
        "                       'gps_height', 'population']\n",
        "    \n",
        "    for col in cols_with_zeros:\n",
        "        X[col] = X[col].replace(0, np.nan)\n",
        "        X[col+'_MISSING'] = X[col].isnull()\n",
        "\n",
        "    # Drop duplicate columns\n",
        "    duplicates = ['quantity_group', 'payment_type']\n",
        "    X = X.drop(columns=duplicates)\n",
        "\n",
        "    # Drop recorded_by (never varies) and id (always varies, random)\n",
        "    unusable_variance = ['recorded_by', 'id']\n",
        "    X = X.drop(columns=unusable_variance)\n",
        "\n",
        "    # Convert date_recorded to datetime\n",
        "    X['date_recorded'] = pd.to_datetime(X['date_recorded'], infer_datetime_format=True)\n",
        "\n",
        "    # Extract components from date_recorded, then drop the original column\n",
        "    X['year_recorded'] = X['date_recorded'].dt.year\n",
        "    X['month_recorded'] = X['date_recorded'].dt.month \n",
        "    X['day_recorded'] = X['date_recorded'].dt.day   \n",
        "    X = X.drop(columns='date_recorded')\n",
        "\n",
        "    # Engineer feature: how many years from construction_year to date_recorded\n",
        "    X['years'] = X['year_recorded'] - X['construction_year']\n",
        "    X['years_MISSING'] = X['years'].isnull()\n",
        "\n",
        "    # return the wrangled dataframe\n",
        "    return X\n",
        "\n"
      ],
      "execution_count": 0,
      "outputs": []
    },
    {
      "cell_type": "code",
      "metadata": {
        "id": "0xWmBZFEYpz-",
        "colab_type": "code",
        "colab": {}
      },
      "source": [
        "train = wrangle(train)\n",
        "val = wrangle(val)\n",
        "test = wrangle(test)    "
      ],
      "execution_count": 0,
      "outputs": []
    },
    {
      "cell_type": "code",
      "metadata": {
        "id": "a7x7IwrYaHR4",
        "colab_type": "code",
        "colab": {
          "base_uri": "https://localhost:8080/",
          "height": 251
        },
        "outputId": "4beca694-808c-4528-bedd-b9212f5a3be6"
      },
      "source": [
        "print(train.shape, test.shape, val.shape)\n",
        "train.columns"
      ],
      "execution_count": 7,
      "outputs": [
        {
          "output_type": "stream",
          "text": [
            "(47520, 46) (14358, 45) (11880, 46)\n"
          ],
          "name": "stdout"
        },
        {
          "output_type": "execute_result",
          "data": {
            "text/plain": [
              "Index(['amount_tsh', 'funder', 'gps_height', 'installer', 'longitude',\n",
              "       'latitude', 'wpt_name', 'num_private', 'basin', 'subvillage', 'region',\n",
              "       'region_code', 'district_code', 'lga', 'ward', 'population',\n",
              "       'public_meeting', 'scheme_management', 'scheme_name', 'permit',\n",
              "       'construction_year', 'extraction_type', 'extraction_type_group',\n",
              "       'extraction_type_class', 'management', 'management_group', 'payment',\n",
              "       'water_quality', 'quality_group', 'quantity', 'source', 'source_type',\n",
              "       'source_class', 'waterpoint_type', 'waterpoint_type_group',\n",
              "       'status_group', 'latitude_MISSING', 'longitude_MISSING',\n",
              "       'construction_year_MISSING', 'gps_height_MISSING', 'population_MISSING',\n",
              "       'year_recorded', 'month_recorded', 'day_recorded', 'years',\n",
              "       'years_MISSING'],\n",
              "      dtype='object')"
            ]
          },
          "metadata": {
            "tags": []
          },
          "execution_count": 7
        }
      ]
    },
    {
      "cell_type": "code",
      "metadata": {
        "id": "loUuWO5NJV0S",
        "colab_type": "code",
        "colab": {}
      },
      "source": [
        "# Set the target\n",
        "target = 'status_group'\n",
        "\n",
        "# Remove target from train\n",
        "train_features = train.drop(columns=[target])\n",
        "\n",
        "# Get list of numeric features\n",
        "num_feat = train_features.select_dtypes(include='number').columns.tolist()\n",
        "\n",
        "# Get unique nonnumeric features\n",
        "cardinality = train_features.select_dtypes(exclude='number').nunique()\n",
        "\n",
        "# Get a list of categorical features with carinality less than 50\n",
        "cat_feat = cardinality[cardinality <= 50].index.tolist()\n",
        "\n",
        "# Combine the lists\n",
        "features = num_feat + cat_feat"
      ],
      "execution_count": 0,
      "outputs": []
    },
    {
      "cell_type": "code",
      "metadata": {
        "id": "06sr3ZSlUGzE",
        "colab_type": "code",
        "colab": {}
      },
      "source": [
        "# Arrange data\n",
        "X_train = train[features]\n",
        "y_train = train[target]\n",
        "X_val = val[features]\n",
        "y_val = val[target]\n",
        "X_test = test[features]"
      ],
      "execution_count": 0,
      "outputs": []
    },
    {
      "cell_type": "code",
      "metadata": {
        "id": "neYznSdNUPXk",
        "colab_type": "code",
        "colab": {
          "base_uri": "https://localhost:8080/",
          "height": 70
        },
        "outputId": "6f13e3ea-5852-489a-de18-7e289e77389c"
      },
      "source": [
        "import category_encoders as ce \n",
        "from sklearn.ensemble import RandomForestClassifier\n",
        "from sklearn.impute import SimpleImputer\n",
        "from sklearn.pipeline import make_pipeline"
      ],
      "execution_count": 10,
      "outputs": [
        {
          "output_type": "stream",
          "text": [
            "/usr/local/lib/python3.6/dist-packages/statsmodels/tools/_testing.py:19: FutureWarning: pandas.util.testing is deprecated. Use the functions in the public API at pandas.testing instead.\n",
            "  import pandas.util.testing as tm\n"
          ],
          "name": "stderr"
        }
      ]
    },
    {
      "cell_type": "code",
      "metadata": {
        "id": "JxLHWqMOUPbh",
        "colab_type": "code",
        "colab": {
          "base_uri": "https://localhost:8080/",
          "height": 33
        },
        "outputId": "974e3804-0134-4ea6-ec2a-f38a1ea62bbd"
      },
      "source": [
        "pipeline = make_pipeline(\n",
        "    ce.one_hot.OneHotEncoder(use_cat_names=True),\n",
        "    SimpleImputer(),\n",
        "    RandomForestClassifier(n_estimators=100, n_jobs=-1, random_state=42)\n",
        ")\n",
        "\n",
        "pipeline.fit(X_train, y_train)\n",
        "y_pred = pipeline.predict(X_test)\n",
        "print(f'Validation accuracy: {pipeline.score(X_val, y_val)}')"
      ],
      "execution_count": 11,
      "outputs": [
        {
          "output_type": "stream",
          "text": [
            "Validation accuracy: 0.8079124579124579\n"
          ],
          "name": "stdout"
        }
      ]
    },
    {
      "cell_type": "code",
      "metadata": {
        "id": "SSf4F3xIUPiY",
        "colab_type": "code",
        "colab": {
          "base_uri": "https://localhost:8080/",
          "height": 33
        },
        "outputId": "c6c30f7c-e662-481c-d3c0-b9b095965513"
      },
      "source": [
        "print(f'X_train before encoding: {X_train.shape}')\n"
      ],
      "execution_count": 11,
      "outputs": [
        {
          "output_type": "stream",
          "text": [
            "X_train before encoding: (47520, 38)\n"
          ],
          "name": "stdout"
        }
      ]
    },
    {
      "cell_type": "code",
      "metadata": {
        "id": "4ePyfBYYUPnB",
        "colab_type": "code",
        "colab": {
          "base_uri": "https://localhost:8080/",
          "height": 33
        },
        "outputId": "f37ba0c2-cc7f-48c2-c014-68efac89c08e"
      },
      "source": [
        "encoder = pipeline.named_steps['onehotencoder']\n",
        "X_train_enc = encoder.transform(X_train)\n",
        "print(f'X_train after encoding: {X_train_enc.shape}')"
      ],
      "execution_count": 12,
      "outputs": [
        {
          "output_type": "stream",
          "text": [
            "X_train after encoding: (47520, 182)\n"
          ],
          "name": "stdout"
        }
      ]
    },
    {
      "cell_type": "code",
      "metadata": {
        "id": "RR9FRss_URm_",
        "colab_type": "code",
        "colab": {}
      },
      "source": [
        "import matplotlib.pyplot as plt\n"
      ],
      "execution_count": 0,
      "outputs": []
    },
    {
      "cell_type": "code",
      "metadata": {
        "id": "GU9HHNiNUPfk",
        "colab_type": "code",
        "colab": {
          "base_uri": "https://localhost:8080/",
          "height": 624
        },
        "outputId": "46357c96-8a63-43ec-8c42-f47b2524b15b"
      },
      "source": [
        "rf = pipeline.named_steps['randomforestclassifier']\n",
        "importances = pd.Series(rf.feature_importances_, X_train_enc.columns)\n",
        "n = 20\n",
        "plt.figure(figsize=(10,n/2))\n",
        "plt.title(f'Top {n} feature importances')\n",
        "importances.sort_values()[-n:].plot.barh()"
      ],
      "execution_count": 14,
      "outputs": [
        {
          "output_type": "execute_result",
          "data": {
            "text/plain": [
              "<matplotlib.axes._subplots.AxesSubplot at 0x7fb685547748>"
            ]
          },
          "metadata": {
            "tags": []
          },
          "execution_count": 14
        },
        {
          "output_type": "display_data",
          "data": {
            "image/png": "[encoded data removed]",
            "text/plain": [
              "<Figure size 720x720 with 1 Axes>"
            ]
          },
          "metadata": {
            "tags": [],
            "needs_background": "light"
          }
        }
      ]
    },
    {
      "cell_type": "markdown",
      "metadata": {
        "id": "RrjdzjBmaH4X",
        "colab_type": "text"
      },
      "source": [
        "#  Try Ordinal Encoding.\n"
      ]
    },
    {
      "cell_type": "code",
      "metadata": {
        "id": "BcR_o88IaNAQ",
        "colab_type": "code",
        "colab": {
          "base_uri": "https://localhost:8080/",
          "height": 67
        },
        "outputId": "4b00954d-69e8-4e72-cc34-83a99c89101c"
      },
      "source": [
        "%%time\n",
        "\n",
        "X_train = train.drop(columns=target)\n",
        "y_train = train[target]\n",
        "X_val = val.drop(columns=target)\n",
        "X_test = test \n",
        "\n",
        "pipeline = make_pipeline(\n",
        "    ce.ordinal.OrdinalEncoder(),\n",
        "    SimpleImputer(),\n",
        "    RandomForestClassifier(n_estimators=100, n_jobs=-1, random_state=42)\n",
        ")\n",
        "\n",
        "pipeline.fit(X_train, y_train)\n",
        "print(f'Validation accuracy: {pipeline.score(X_val, y_val)}')"
      ],
      "execution_count": 15,
      "outputs": [
        {
          "output_type": "stream",
          "text": [
            "Validation accuracy: 0.809006734006734\n",
            "CPU times: user 19.8 s, sys: 170 ms, total: 20 s\n",
            "Wall time: 10.9 s\n"
          ],
          "name": "stdout"
        }
      ]
    },
    {
      "cell_type": "code",
      "metadata": {
        "id": "vG8st5ZwfeXd",
        "colab_type": "code",
        "colab": {
          "base_uri": "https://localhost:8080/",
          "height": 50
        },
        "outputId": "dcca16f4-8afa-4cec-9cd9-a8dd4562ddcb"
      },
      "source": [
        "print(f'X_train before encoding: {X_train.shape}')\n",
        "encoder = pipeline.named_steps['ordinalencoder']\n",
        "X_train_enc = encoder.transform(X_train)\n",
        "print(f'X_train after encoding: {X_train_enc.shape}')"
      ],
      "execution_count": 16,
      "outputs": [
        {
          "output_type": "stream",
          "text": [
            "X_train before encoding: (47520, 45)\n",
            "X_train after encoding: (47520, 45)\n"
          ],
          "name": "stdout"
        }
      ]
    },
    {
      "cell_type": "markdown",
      "metadata": {
        "id": "zcleuraoaNdG",
        "colab_type": "text"
      },
      "source": [
        "#  Try a Random Forest Classifier.\n"
      ]
    },
    {
      "cell_type": "code",
      "metadata": {
        "id": "8u6XI3OefedT",
        "colab_type": "code",
        "colab": {
          "base_uri": "https://localhost:8080/",
          "height": 607
        },
        "outputId": "efdd44f7-bfde-4a09-d776-55448125497e"
      },
      "source": [
        "rf = pipeline.named_steps['randomforestclassifier']\n",
        "importances = pd.Series(rf.feature_importances_, X_train_enc.columns)\n",
        "n = 20\n",
        "plt.figure(figsize=(10, n/2))\n",
        "plt.title(f'Top {n} feature_importances')\n",
        "importances.sort_values()[-n:].plot.barh();"
      ],
      "execution_count": 17,
      "outputs": [
        {
          "output_type": "display_data",
          "data": {
            "image/png": "[encoded data removed]",
            "text/plain": [
              "<Figure size 720x720 with 1 Axes>"
            ]
          },
          "metadata": {
            "tags": [],
            "needs_background": "light"
          }
        }
      ]
    },
    {
      "cell_type": "code",
      "metadata": {
        "id": "Q2TzSQc5O8q1",
        "colab_type": "code",
        "colab": {}
      },
      "source": [
        "import itertools\n",
        "import seaborn as sns \n",
        "\n",
        "def pred_heatmap(model, X, features, class_index=-1, title='', num=100):\n",
        "    feature1, feature2 = features\n",
        "    min1, max1 = X[feature1].min(), X[feature1].max()\n",
        "    min2, max2 = X[feature2].min(), X[feature2].max()\n",
        "    x1 = np.linspace(min1, max1, num)\n",
        "    x2 = np.linspace(max2, min2, num)\n",
        "    combos = list(itertools.product(x1, x2))\n",
        "    y_pred_proba = model.predict_proba(combos)[:, class_index]\n",
        "    pred_grid = y_pred_proba.reshape(num, num).T\n",
        "    table = pd.DataFrame(pred_grid, columns=x1, index=x2)\n",
        "    sns.heatmap(table, vmin=0, vmax=1)\n",
        "    plt.xticks([])\n",
        "    plt.yticks([])\n",
        "    plt.xlabel(feature1)\n",
        "    plt.ylabel(feature2)\n",
        "    plt.title(title)\n",
        "    plt.show()\n",
        "    print(len(y_pred_proba))\n",
        "    \n",
        "    return y_pred_proba\n",
        "    "
      ],
      "execution_count": 0,
      "outputs": []
    },
    {
      "cell_type": "code",
      "metadata": {
        "id": "hmzEmj5mMUkI",
        "colab_type": "code",
        "colab": {}
      },
      "source": [
        "from ipywidgets import interact\n",
        "from sklearn.ensemble import RandomForestRegressor\n",
        "from sklearn.tree import DecisionTreeRegressor\n",
        "from sklearn.tree import DecisionTreeClassifier\n",
        "from sklearn.metrics import  accuracy_score\n",
        "\n",
        "def get_X_y(df, feature1, feature2, target):\n",
        "    features = [feature1, feature2]\n",
        "    X = train[features]\n",
        "    y = train[target]\n",
        "    X = X.fillna(X.median())\n",
        "    X = ce.OrdinalEncoder().fit_transform(X)\n",
        "    return X, y"
      ],
      "execution_count": 0,
      "outputs": []
    },
    {
      "cell_type": "code",
      "metadata": {
        "id": "TnFFx8Q2juuB",
        "colab_type": "code",
        "colab": {
          "base_uri": "https://localhost:8080/",
          "height": 964,
          "referenced_widgets": [
            "d98020093367431194c3ce26a80b6fc3",
            "5d3da32ee3a5437cada4da1e259045e6",
            "2aeed9d14fda458ab06f5709e9e2b0e5",
            "5807cdbc6fc84a7ebea5dad4d2e5baa3",
            "d3f03926f6d04deea417eacbd6ea7bc2",
            "5f3d5090119d42d9b6ab6f6c2c32e90d",
            "eb9ceae4f7be40d0b4bbe50fe4fc42d9",
            "65f7a696d4e940d5b7dd6b28a60b39aa",
            "8d3b93ea1cc54c3cb31bcb3b1e45d7ea",
            "035deee5a4e54bf4a38671cf2288294c"
          ]
        },
        "outputId": "c104e801-23a5-47ca-8fd4-bb36be2dcb25"
      },
      "source": [
        "#  bootstrap aggregation or bagging\n",
        "\n",
        "feature1 = 'longitude'\n",
        "feature2 = 'latitude'\n",
        "\n",
        "\n",
        "def waterpumps_bagging(max_depth=1, n_estimators=1):\n",
        "    predicteds = []\n",
        "    for i in range(n_estimators):\n",
        "        title = f'Tree {i+1}'\n",
        "        bootstrap_sample = train.sample(n=len(train), replace=True)\n",
        "        X, y = get_X_y(bootstrap_sample, feature1, feature2, target='status_group')\n",
        "        tree = DecisionTreeClassifier(max_depth=max_depth)\n",
        "        tree.fit(X,y)\n",
        "        predicted = pred_heatmap(tree, X, [feature1, feature2], class_index=0, title=title)\n",
        "        predicteds.append(predicted)\n",
        "\n",
        "\n",
        "\n",
        "    ensembled = np.vstack(predicted).mean(axis=0)\n",
        "    title = f'Ensemble of {n_estimators} trees, with max_depth={max_depth}'\n",
        "    sns.heatmap(ensembled.reshape(1,1).T, vmin=0, vmax=1)\n",
        "    plt.title(title)\n",
        "    plt.xlabel(feature1)\n",
        "    plt.ylabel(feature2)\n",
        "    plt.xticks([])\n",
        "    plt.yticks([])\n",
        "    plt.show()\n",
        "\n",
        "    \n",
        "\n",
        "    \n",
        "\n",
        "interact(waterpumps_bagging, max_depth=(1,6,1), n_estimators=(2,5,1));\n",
        "\n"
      ],
      "execution_count": 22,
      "outputs": [
        {
          "output_type": "display_data",
          "data": {
            "application/vnd.jupyter.widget-view+json": {
              "model_id": "d98020093367431194c3ce26a80b6fc3",
              "version_minor": 0,
              "version_major": 2
            },
            "text/plain": [
              "interactive(children=(IntSlider(value=1, description='max_depth', max=6, min=1), IntSlider(value=2, descriptio…"
            ]
          },
          "metadata": {
            "tags": []
          }
        }
      ]
    },
    {
      "cell_type": "markdown",
      "metadata": {
        "id": "UpohYFeQaROF",
        "colab_type": "text"
      },
      "source": [
        "#  Submit your predictions to our Kaggle competition. (Go to our Kaggle InClass competition webpage. Use the blue Submit Predictions button to upload your CSV file. Or you can use the Kaggle API to submit your predictions.)\n"
      ]
    },
    {
      "cell_type": "code",
      "metadata": {
        "id": "4jZW12RIaYuC",
        "colab_type": "code",
        "colab": {}
      },
      "source": [
        "submission = sample_submission.copy()\n",
        "submission['status_group'] = y_pred\n",
        "submission.to_csv('your-submission-filename.csv', index=False)"
      ],
      "execution_count": 0,
      "outputs": []
    },
    {
      "cell_type": "markdown",
      "metadata": {
        "id": "8EmNq7zGaZHO",
        "colab_type": "text"
      },
      "source": [
        "#  Commit your notebook to your fork of the GitHub repo."
      ]
    }
  ]
}